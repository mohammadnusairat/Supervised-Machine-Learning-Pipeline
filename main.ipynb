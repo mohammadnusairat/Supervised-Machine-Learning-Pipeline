{
 "cells": [
  {
   "cell_type": "markdown",
   "metadata": {
    "id": "2LDfWLvhYPtO"
   },
   "source": [
    "\n",
    "# Supervised Machine Learning Pipeline <img src=\"https://upload.wikimedia.org/wikipedia/commons/d/d5/Hey_Machine_Learning_Logo.png\" width=\"65px\" align=\"center\" float=\"left\"/>\n",
    "\n",
    "_In this project, we build a supervised learning pipeline to **classify political tweets based on their author**. The dataset consists of labeled tweets from political figures and organizations, and the goal is to predict whether a tweet belongs to a conservative (e.g., `realDonaldTrump`, `GOP`) or liberal (e.g., `JoeBiden`, `TheDemocrats`) source._\n",
    "\n",
    "_The classification task is binary, and we apply several standard machine learning techniques including preprocessing, feature extraction using TF-IDF, and classification with Support Vector Machines (SVMs)._"
   ]
  },
  {
   "cell_type": "code",
   "execution_count": null,
   "metadata": {
    "id": "vogrCA5aYPtQ",
    "scrolled": true
   },
   "outputs": [],
   "source": [
    "import numpy as np\n",
    "import pandas as pd\n",
    "%matplotlib inline\n",
    "import matplotlib.pyplot as plt\n",
    "import seaborn as sns\n",
    "import nltk\n",
    "import sklearn\n",
    "import string\n",
    "import re # helps you filter urls\n",
    "from IPython.display import display, Latex, Markdown\n",
    "from sklearn.svm import SVC\n",
    "from sklearn.metrics import accuracy_score\n",
    "import time"
   ]
  },
  {
   "cell_type": "markdown",
   "metadata": {
    "id": "6PmFK0GgYPtU"
   },
   "source": [
    "# Classifying tweets\n",
    "\n",
    "In this problem, you will be analyzing Twitter data related to the 2016 US Presidential election extracted using [the Twitter API](https://dev.twitter.com/overview/api). The data contains tweets posted by the following six Twitter accounts: `realDonaldTrump, mike_pence, GOP, HillaryClinton, timkaine, TheDemocrats`\n",
    "\n",
    "For every tweet, there are two pieces of information:\n",
    "- `screen_name`: the Twitter handle of the user tweeting and\n",
    "- `text`: the content of the tweet.\n",
    "\n",
    "The tweets have been divided into two parts - train and test available as CSV files. For train, both the `screen_name` and `text` attributes were provided but for test, `screen_name` is **hidden**.\n",
    "\n",
    "The overarching goal of the problem is to **\"predict\"** the political inclination (Republican/Democratic) of the Twitter user from one of his/her tweets. The ground truth (i.e., true class labels) is determined from the `screen_name` of the tweet as follows\n",
    "- `realDonaldTrump, mike_pence, GOP` are Republicans\n",
    "- `HillaryClinton, timkaine, TheDemocrats` are Democrats\n",
    "\n",
    "Thus, this is a binary classification problem.\n",
    "\n",
    "The problem proceeds in three stages:\n",
    "- **A. Text processing**: We will clean up the raw tweet text using the various functions offered by the [nltk](http://www.nltk.org/genindex.html) package.\n",
    "- **B. Feature construction**: In this part, we will construct bag-of-words feature vectors and training labels from the processed text of tweets and the `screen_name` columns respectively.\n",
    "- **C. Classification**: Using the features derived, we will use [sklearn](http://scikit-learn.org/stable/modules/classes.html) package to learn a model which classifies the tweets as desired.\n",
    "\n",
    "Install necessary `nltk` packages using:"
   ]
  },
  {
   "cell_type": "code",
   "execution_count": 2,
   "metadata": {
    "id": "wQGjuhliYPtV"
   },
   "outputs": [
    {
     "name": "stderr",
     "output_type": "stream",
     "text": [
      "[nltk_data] Downloading package stopwords to\n",
      "[nltk_data]     C:\\Users\\mnusa\\AppData\\Roaming\\nltk_data...\n",
      "[nltk_data]   Package stopwords is already up-to-date!\n",
      "[nltk_data] Downloading package wordnet to\n",
      "[nltk_data]     C:\\Users\\mnusa\\AppData\\Roaming\\nltk_data...\n",
      "[nltk_data]   Package wordnet is already up-to-date!\n",
      "[nltk_data] Downloading package averaged_perceptron_tagger to\n",
      "[nltk_data]     C:\\Users\\mnusa\\AppData\\Roaming\\nltk_data...\n",
      "[nltk_data]   Package averaged_perceptron_tagger is already up-to-\n",
      "[nltk_data]       date!\n",
      "[nltk_data] Downloading package averaged_perceptron_tagger_eng to\n",
      "[nltk_data]     C:\\Users\\mnusa\\AppData\\Roaming\\nltk_data...\n",
      "[nltk_data]   Package averaged_perceptron_tagger_eng is already up-to-\n",
      "[nltk_data]       date!\n",
      "[nltk_data] Downloading package punkt to\n",
      "[nltk_data]     C:\\Users\\mnusa\\AppData\\Roaming\\nltk_data...\n",
      "[nltk_data]   Package punkt is already up-to-date!\n",
      "[nltk_data] Downloading package punkt_tab to\n",
      "[nltk_data]     C:\\Users\\mnusa\\AppData\\Roaming\\nltk_data...\n",
      "[nltk_data]   Package punkt_tab is already up-to-date!\n"
     ]
    }
   ],
   "source": [
    "nltk.download('stopwords')\n",
    "nltk.download('wordnet')\n",
    "nltk.download('averaged_perceptron_tagger')\n",
    "nltk.download('averaged_perceptron_tagger_eng')\n",
    "nltk.download('punkt')\n",
    "nltk.download('punkt_tab')\n",
    "# Verify that the following commands work before moving on.\n",
    "\n",
    "lemmatizer=nltk.stem.wordnet.WordNetLemmatizer()\n",
    "stopwords=nltk.corpus.stopwords.words('english')"
   ]
  },
  {
   "cell_type": "markdown",
   "metadata": {
    "id": "pTqEaBw9YPtZ"
   },
   "source": [
    "## A. Text Processing\n",
    "\n",
    "First we will fill in the following function which processes and tokenizes raw text. The generated list of tokens should meet the following specifications:\n",
    "1. The tokens must all be in lower case.\n",
    "2. The tokens should appear in the same order as in the raw text.\n",
    "3. The tokens must be in their lemmatized form. If a word cannot be lemmatized (i.e, you get an exception), simply catch it and ignore it. These words will not appear in the token list.\n",
    "4. The tokens must not contain any punctuations. Punctuations should be handled as follows: (a) Apostrophe of the form `'s` must be ignored. e.g., `She's` becomes `she`. (b) Other apostrophes should be omitted. e.g, `don't` becomes `dont`. (c) Words must be broken at the hyphen and other punctuations.\n",
    "5. The tokens must not contain any part of a url.\n",
    "<br><br><br>\n",
    "\n",
    "<img src=\"https://upload.wikimedia.org/wikipedia/commons/d/d5/Hey_Machine_Learning_Logo.png\" width=\"65px\" align=\"left\" float=\"left\"/>\n",
    "\n",
    "\n",
    "<br><br><br>\n",
    "## Part 1:"
   ]
  },
  {
   "cell_type": "code",
   "execution_count": 3,
   "metadata": {
    "id": "B5IMtsQoYPta"
   },
   "outputs": [],
   "source": [
    "# Convert part of speech tag from nltk.pos_tag to word net compatible format\n",
    "# Simple mapping based on first letter of return tag to make grading consistent\n",
    "# Everything else will be considered noun 'n'\n",
    "posMapping = {\n",
    "# \"First_Letter by nltk.pos_tag\":\"POS_for_lemmatizer\"\n",
    "    \"N\":'n',\n",
    "    \"V\":'v',\n",
    "    \"J\":'a',\n",
    "    \"R\":'r'\n",
    "}\n",
    "\n",
    "def process(text, lemmatizer=nltk.stem.wordnet.WordNetLemmatizer()):\n",
    "    \"\"\" Normalizes case and handles punctuation\n",
    "    Inputs:\n",
    "        text: str: raw text\n",
    "        lemmatizer: an instance of a class implementing the lemmatize() method\n",
    "                    (the default argument is of type nltk.stem.wordnet.WordNetLemmatizer)\n",
    "    Outputs:\n",
    "        list(str): tokenized text\n",
    "    \"\"\"\n",
    "    # Step 1: Convert to lower case\n",
    "    text = text.lower()\n",
    "    \n",
    "    # Step 2: Remove URLs\n",
    "    text = re.sub(r'http:/\\S+|www\\S+|https:/\\S+', '', text, flags=re.MULTILINE)\n",
    "    \n",
    "    # Step 3: Remove or handle punctuation\n",
    "    # Handle specific punctuation cases and remove others\n",
    "    text = re.sub(r\"'s\", '', text)  # Remove 's\n",
    "    text = re.sub(r\"'\", '', text)  # Replace other apostrophes with 'dont'\n",
    "    text = re.sub(r'[%s]' % re.escape(string.punctuation), ' ', text) # Replace any punctuation with a space\n",
    "    \n",
    "    # Step 4: Tokenize the text\n",
    "    tokens = nltk.word_tokenize(text)\n",
    "    \n",
    "    # Step 5: Lemmatize tokens based on POS\n",
    "    lemmatized_tokens = []\n",
    "    pos_tags = nltk.pos_tag(tokens)  # Get POS tags\n",
    "    \n",
    "    for word, tag in pos_tags:\n",
    "        # Get the first letter of the POS tag\n",
    "        first_letter = tag[0]\n",
    "        pos = posMapping.get(first_letter, 'n')  # Default to noun if not found\n",
    "        try:\n",
    "            lemmatized_word = lemmatizer.lemmatize(word, pos=pos)\n",
    "            lemmatized_tokens.append(lemmatized_word)\n",
    "        except Exception:\n",
    "            continue  # Ignore words that cannot be lemmatized\n",
    "\n",
    "    return lemmatized_tokens\n",
    "    "
   ]
  },
  {
   "cell_type": "markdown",
   "metadata": {
    "id": "bspITcPiYPte"
   },
   "source": [
    "Test the above function as follows; we want to make the test strings as exhaustive as possible."
   ]
  },
  {
   "cell_type": "code",
   "execution_count": 4,
   "metadata": {
    "id": "UrEzaolBYPtf"
   },
   "outputs": [
    {
     "name": "stdout",
     "output_type": "stream",
     "text": [
      "['im', 'do', 'well', 'how', 'about', 'you']\n",
      "['education', 'be', 'the', 'ability', 'to', 'listen', 'to', 'almost', 'anything', 'without', 'lose', 'your', 'temper', 'or', 'your', 'self', 'confidence']\n",
      "['be', 'have', 'do', 'language', 'city', 'mice']\n",
      "['it', 'hilarious', 'check', 'it', 'out']\n",
      "['see', 'it', 'sunday', 'morning', 'at', '8', '30a', 'on', 'rtv6', 'and', 'our', 'rtv6', 'app', 'http', '…']\n"
     ]
    }
   ],
   "source": [
    "print(process(\"I'm doing well! How about you?\"))\n",
    "# ['im', 'do', 'well', 'how', 'about', 'you']\n",
    "\n",
    "print(process(\"Education is the ability to listen to almost anything without losing your temper or your self-confidence.\"))\n",
    "# ['education', 'be', 'the', 'ability', 'to', 'listen', 'to', 'almost', 'anything', 'without', 'lose', 'your', 'temper', 'or', 'your', 'self', 'confidence']\n",
    "\n",
    "print(process(\"been had done languages cities mice\"))\n",
    "# ['be', 'have', 'do', 'language', 'city', 'mice']\n",
    "\n",
    "print(process(\"It's hilarious. Check it out http://t.co/dummyurl\"))\n",
    "# ['it', 'hilarious', 'check', 'it', 'out']\n",
    "\n",
    "print(process(\"See it Sunday morning at 8:30a on RTV6 and our RTV6 app. http:…\"))\n",
    "# ['see', 'it', 'sunday', 'morning', 'at', '8', '30a', 'on', 'rtv6', 'and', 'our', 'rtv6', 'app', 'http', '…']\n",
    "# Here '…' is a special unicode character not in string.punctuation and it is still present in processed text"
   ]
  },
  {
   "cell_type": "markdown",
   "metadata": {
    "id": "Ylcws_-LYPti"
   },
   "source": [
    "<img src=\"https://upload.wikimedia.org/wikipedia/commons/d/d5/Hey_Machine_Learning_Logo.png\" width=\"65px\" align=\"left\" float=\"left\"/>\n",
    "<br><br><br>\n",
    "\n",
    "## Part 2:\n",
    "\n",
    "We will now use the `process()` function we implemented to convert the pandas dataframe we just loaded from tweets_train.csv file. Our function should be able to handle any data frame which contains a column called `text`. The data frame we return should replace every string in `text` with the result of `process()` and retain all other columns as such. We do not change the order of rows/columns.\n",
    "\n",
    "Before writing `process_all()`, we will load the data into a DataFrame and look at its format:"
   ]
  },
  {
   "cell_type": "code",
   "execution_count": 5,
   "metadata": {
    "id": "aEONT9fXYPti"
   },
   "outputs": [
    {
     "data": {
      "text/html": [
       "<div>\n",
       "<style scoped>\n",
       "    .dataframe tbody tr th:only-of-type {\n",
       "        vertical-align: middle;\n",
       "    }\n",
       "\n",
       "    .dataframe tbody tr th {\n",
       "        vertical-align: top;\n",
       "    }\n",
       "\n",
       "    .dataframe thead th {\n",
       "        text-align: right;\n",
       "    }\n",
       "</style>\n",
       "<table border=\"1\" class=\"dataframe\">\n",
       "  <thead>\n",
       "    <tr style=\"text-align: right;\">\n",
       "      <th></th>\n",
       "      <th>screen_name</th>\n",
       "      <th>text</th>\n",
       "    </tr>\n",
       "  </thead>\n",
       "  <tbody>\n",
       "    <tr>\n",
       "      <th>0</th>\n",
       "      <td>GOP</td>\n",
       "      <td>RT @GOPconvention: #Oregon votes today. That m...</td>\n",
       "    </tr>\n",
       "    <tr>\n",
       "      <th>1</th>\n",
       "      <td>TheDemocrats</td>\n",
       "      <td>RT @DWStweets: The choice for 2016 is clear: W...</td>\n",
       "    </tr>\n",
       "    <tr>\n",
       "      <th>2</th>\n",
       "      <td>HillaryClinton</td>\n",
       "      <td>Trump's calling for trillion dollar tax cuts f...</td>\n",
       "    </tr>\n",
       "    <tr>\n",
       "      <th>3</th>\n",
       "      <td>HillaryClinton</td>\n",
       "      <td>.@TimKaine's guiding principle: the belief tha...</td>\n",
       "    </tr>\n",
       "    <tr>\n",
       "      <th>4</th>\n",
       "      <td>timkaine</td>\n",
       "      <td>Glad the Senate could pass a #THUD / MilCon / ...</td>\n",
       "    </tr>\n",
       "  </tbody>\n",
       "</table>\n",
       "</div>"
      ],
      "text/plain": [
       "      screen_name                                               text\n",
       "0             GOP  RT @GOPconvention: #Oregon votes today. That m...\n",
       "1    TheDemocrats  RT @DWStweets: The choice for 2016 is clear: W...\n",
       "2  HillaryClinton  Trump's calling for trillion dollar tax cuts f...\n",
       "3  HillaryClinton  .@TimKaine's guiding principle: the belief tha...\n",
       "4        timkaine  Glad the Senate could pass a #THUD / MilCon / ..."
      ]
     },
     "metadata": {},
     "output_type": "display_data"
    }
   ],
   "source": [
    "tweets = pd.read_csv(\"tweets_train.csv\", na_filter=False)\n",
    "display(tweets.head())"
   ]
  },
  {
   "cell_type": "code",
   "execution_count": 6,
   "metadata": {
    "id": "SM7hJBdOYPtl"
   },
   "outputs": [],
   "source": [
    "def process_all(df, lemmatizer=nltk.stem.wordnet.WordNetLemmatizer()):\n",
    "    \"\"\" process all text in the dataframe using process() function.\n",
    "    Inputs\n",
    "        df: pd.DataFrame: dataframe containing a column 'text' loaded from the CSV file\n",
    "        lemmatizer: an instance of a class implementing the lemmatize() method\n",
    "                    (the default argument is of type nltk.stem.wordnet.WordNetLemmatizer)\n",
    "    Outputs\n",
    "        pd.DataFrame: dataframe in which the values of text column have been changed from str to list(str),\n",
    "                        the output from process() function. Other columns are unaffected.\n",
    "    \"\"\"\n",
    "    # Apply the process function to the 'text' column\n",
    "    df['text'] = df['text'].apply(lambda x: process(x, lemmatizer))\n",
    "    return df"
   ]
  },
  {
   "cell_type": "code",
   "execution_count": 7,
   "metadata": {
    "id": "lXQP6CAiYPto"
   },
   "outputs": [
    {
     "name": "stdout",
     "output_type": "stream",
     "text": [
      "      screen_name                                               text\n",
      "0             GOP  [rt, gopconvention, oregon, vote, today, that,...\n",
      "1    TheDemocrats  [rt, dwstweets, the, choice, for, 2016, be, cl...\n",
      "2  HillaryClinton  [trump, call, for, trillion, dollar, tax, cut,...\n",
      "3  HillaryClinton  [timkaine, guide, principle, the, belief, that...\n",
      "4        timkaine  [glad, the, senate, could, pass, a, thud, milc...\n"
     ]
    }
   ],
   "source": [
    "# test your code\n",
    "processed_tweets = process_all(tweets)\n",
    "print(processed_tweets.head())\n",
    "\n",
    "#       screen_name                                               text\n",
    "# 0             GOP  [rt, gopconvention, oregon, vote, today, that,...\n",
    "# 1    TheDemocrats  [rt, dwstweets, the, choice, for, 2016, be, cl...\n",
    "# 2  HillaryClinton  [trump, call, for, trillion, dollar, tax, cut,...\n",
    "# 3  HillaryClinton  [timkaine, guide, principle, the, belief, that...\n",
    "# 4        timkaine  [glad, the, senate, could, pass, a, thud, milc..."
   ]
  },
  {
   "cell_type": "markdown",
   "metadata": {
    "id": "qsBiunCIYPtr"
   },
   "source": [
    "## B. Feature Construction\n",
    "\n",
    "The next step is to derive feature vectors from the tokenized tweets. In this section, we will be constructing a bag-of-words TF-IDF feature vector. But before that, the number of possible words is prohibitively large and not all of them may be useful for our classification task. We need to determine which words to retain, and which to omit. A common heuristic is to construct a frequency distribution of words in the corpus and prune out the head and tail of the distribution. The intuition of the above operation is as follows.\n",
    "\n",
    "Very common words (i.e. stopwords) add almost no information regarding similarity of two pieces of text. Similarly with very rare words. NLTK has a list of in-built stop words which is a good substitute for head of the distribution. We will consider a word rare if it occurs only in a single document (row) in whole of `tweets_train.csv`.\n",
    "<br><br><br>\n",
    "\n",
    "<img src=\"https://upload.wikimedia.org/wikipedia/commons/d/d5/Hey_Machine_Learning_Logo.png\" width=\"65px\" align=\"left\" float=\"left\"/>\n",
    "<br><br><br>\n",
    "\n",
    "## Part 3:\n",
    "\n",
    "Construct a sparse matrix of features for each tweet with the help of `sklearn.feature_extraction.text.TfidfVectorizer` (documentation [here](https://scikit-learn.org/stable/modules/generated/sklearn.feature_extraction.text.TfidfVectorizer.html)). We will need to pass a parameter `min_df=2` to filter out the words occuring only in one document in the whole training set. Remember to ignore the stop words as well. We must leave other optional parameters (e.g., `vocab`, `norm`, etc) at their default values; but we may need to use parameters like `lowercase` and `tokenizer` to handle `processed_tweets` that is a `list` of tokens (not raw text)."
   ]
  },
  {
   "cell_type": "code",
   "execution_count": 8,
   "metadata": {
    "id": "8NQ9wVm3YPt0"
   },
   "outputs": [],
   "source": [
    "import sklearn.feature_extraction\n",
    "\n",
    "def create_features(processed_tweets, stop_words):\n",
    "    \"\"\" creates the feature matrix using the processed tweet text\n",
    "    Inputs:\n",
    "        processed_tweets: pd.DataFrame: processed tweets read from train/test csv file, containing the column 'text'\n",
    "        stop_words: list(str): stop_words by nltk stopwords (after processing)\n",
    "    Outputs:\n",
    "        sklearn.feature_extraction.text.TfidfVectorizer: the TfidfVectorizer object used\n",
    "            we need this to tranform test tweets in the same way as train tweets\n",
    "        scipy.sparse.csr.csr_matrix: sparse bag-of-words TF-IDF feature matrix\n",
    "    \"\"\"\n",
    "    # sort stop_words set first\n",
    "\n",
    "    # Initialize the TfidfVectorizer with the required parameters\n",
    "    vectorizer = sklearn.feature_extraction.text.TfidfVectorizer(\n",
    "        lowercase=False,  # Convert to lowercase\n",
    "        tokenizer=lambda x: x,  # The input is already tokenized\n",
    "        stop_words=list(sorted(stop_words)),  # Ignore the stop words\n",
    "        min_df=2  # Filter out words that occur in less than 2 documents\n",
    "    )\n",
    "    \n",
    "    # Fit the vectorizer to the processed tweets and transform the text into a sparse matrix\n",
    "    feature_matrix = vectorizer.fit_transform(processed_tweets['text'])\n",
    "    \n",
    "    return vectorizer, feature_matrix"
   ]
  },
  {
   "cell_type": "code",
   "execution_count": 9,
   "metadata": {
    "id": "XXYtqEyvYPt4"
   },
   "outputs": [
    {
     "name": "stderr",
     "output_type": "stream",
     "text": [
      "c:\\Users\\mnusa\\AppData\\Local\\Programs\\Python\\Python312\\Lib\\site-packages\\sklearn\\feature_extraction\\text.py:521: UserWarning: The parameter 'token_pattern' will not be used since 'tokenizer' is not None'\n",
      "  warnings.warn(\n",
      "c:\\Users\\mnusa\\AppData\\Local\\Programs\\Python\\Python312\\Lib\\site-packages\\sklearn\\feature_extraction\\text.py:406: UserWarning: Your stop_words may be inconsistent with your preprocessing. Tokenizing the stop words generated tokens ['b', 'c', 'e', 'f', 'g', 'h', 'j', 'l', 'n', 'p', 'r', 'u', 'v', 'w'] not in stop_words.\n",
      "  warnings.warn(\n"
     ]
    },
    {
     "data": {
      "text/plain": [
       "(TfidfVectorizer(lowercase=False, min_df=2,\n",
       "                 stop_words=[np.str_('a'), np.str_('about'), np.str_('above'),\n",
       "                             np.str_('after'), np.str_('again'),\n",
       "                             np.str_('against'), np.str_('ain'), np.str_('all'),\n",
       "                             np.str_('an'), np.str_('and'), np.str_('any'),\n",
       "                             np.str_('aren'), np.str_('arent'), np.str_('at'),\n",
       "                             np.str_('be'), np.str_('because'),\n",
       "                             np.str_('before'), np.str_('below'),\n",
       "                             np.str_('between'), np.str_('both'), np.str_('but'),\n",
       "                             np.str_('by'), np.str_('can'), np.str_('couldn'),\n",
       "                             np.str_('couldnt'), np.str_('d'), np.str_('didn'),\n",
       "                             np.str_('didnt'), np.str_('do'), np.str_('doesn'), ...],\n",
       "                 tokenizer=<function create_features.<locals>.<lambda> at 0x000001E4D620D3A0>),\n",
       " <Compressed Sparse Row sparse matrix of dtype 'float64'\n",
       " \twith 168110 stored elements and shape (17298, 8101)>)"
      ]
     },
     "execution_count": 9,
     "metadata": {},
     "output_type": "execute_result"
    }
   ],
   "source": [
    "# execute this code\n",
    "\n",
    "# It is recommended to process stopwords according to our data cleaning rules\n",
    "processed_stopwords = set(np.concatenate([process(word) for word in stopwords]))\n",
    "(tfidf, X) = create_features(processed_tweets, processed_stopwords)\n",
    "# Ignore warning\n",
    "tfidf, X\n",
    "# Output (should be similar):\n",
    "# (TfidfVectorizer(lowercase=False, min_df=2,\n",
    "#                  stop_words={'a', 'about', 'above', 'after', 'again', 'against',\n",
    "#                              'ain', 'all', 'an', 'and', 'any', 'aren', 'arent',\n",
    "#                              'at', 'be', 'because', 'before', 'below', 'between',\n",
    "#                              'both', 'but', 'by', 'can', 'couldn', 'couldnt',\n",
    "#                              'd', 'didn', 'didnt', 'do', 'doesn', ...},\n",
    "#                  tokenizer=<function create_features.<locals>.<lambda> at 0x7fd4002a6700>),\n",
    "#  <17298x8114 sparse matrix of type '<class 'numpy.float64'>'\n",
    "#  \twith 170355 stored elements in Compressed Sparse Row format>)"
   ]
  },
  {
   "cell_type": "markdown",
   "metadata": {
    "id": "5WQJih7SYPt6"
   },
   "source": [
    "<img src=\"https://upload.wikimedia.org/wikipedia/commons/d/d5/Hey_Machine_Learning_Logo.png\" width=\"65px\" align=\"left\" float=\"left\"/>\n",
    "\n",
    "<br><br><br>\n",
    "\n",
    "## Part 4:\n",
    "\n",
    "Also for each tweet, assign a class label (0 or 1) using its `screen_name`. Use 0 for realDonaldTrump, mike_pence, GOP and 1 for the rest."
   ]
  },
  {
   "cell_type": "code",
   "execution_count": 10,
   "metadata": {
    "id": "bLtDPaInYPt7"
   },
   "outputs": [],
   "source": [
    "def create_labels(processed_tweets):\n",
    "    \"\"\" creates the class labels from screen_name\n",
    "    Inputs:\n",
    "        processed_tweets: pd.DataFrame: tweets read from train file, containing the column 'screen_name'\n",
    "    Outputs:\n",
    "        numpy.ndarray(int): dense binary numpy array of class labels\n",
    "    \"\"\"\n",
    "    # Define the screen names that should be labeled as 0\n",
    "    label_0_names = {'realDonaldTrump', 'mike_pence', 'GOP'}\n",
    "    \n",
    "    # Create the labels by checking if each screen_name is in the label_0_names set\n",
    "    labels = processed_tweets['screen_name'].apply(lambda name: 0 if name in label_0_names else 1)\n",
    "    \n",
    "    # Convert the result to a numpy array\n",
    "    return labels.to_numpy(dtype=int)"
   ]
  },
  {
   "cell_type": "code",
   "execution_count": 11,
   "metadata": {
    "id": "z49a4djKYPt-"
   },
   "outputs": [
    {
     "data": {
      "text/plain": [
       "array([0, 1, 1, ..., 0, 1, 0])"
      ]
     },
     "execution_count": 11,
     "metadata": {},
     "output_type": "execute_result"
    }
   ],
   "source": [
    "# execute this code\n",
    "\n",
    "y = create_labels(processed_tweets)\n",
    "y\n",
    "# 0        0\n",
    "# 1        1\n",
    "# 2        1\n",
    "# 3        1\n",
    "# 4        1\n",
    "#         ..\n",
    "# 17293    0\n",
    "# 17294    0\n",
    "# 17295    0\n",
    "# 17296    1\n",
    "# 17297    0\n",
    "# Name: screen_name, Length: 17298, dtype: int32"
   ]
  },
  {
   "cell_type": "markdown",
   "metadata": {
    "id": "5STbtJYSYPuA"
   },
   "source": [
    "## C. Classification\n",
    "\n",
    "And finally, we are ready to put things together and learn a model for the classification of tweets. The classifier you will be using is [`sklearn.svm.SVC`](http://scikit-learn.org/stable/modules/generated/sklearn.svm.SVC.html#sklearn.svm.SVC) (Support Vector Machine).\n",
    "\n",
    "At the heart of SVMs is the concept of kernel functions, which determines how the similarity/distance between two data points in computed. `sklearn`'s SVM provides four kernel functions: `linear`, `poly`, `rbf`, `sigmoid` (details [here](http://scikit-learn.org/stable/modules/svm.html#svm-kernels)) but we can also implement our own distance function and pass it as an argument to the classifier.\n",
    "\n",
    "Through the various functions we implement in this part, we will be able to learn a classifier, score a classifier based on how well it performs, use it for prediction tasks and compare it to a baseline.\n",
    "\n",
    "Specifically, we will carry out the following tasks (Parts 5 - 9) in order:\n",
    "\n",
    "1. Implement and evaluate a simple baseline classifier MajorityLabelClassifier.\n",
    "2. Implement the `learn_classifier()` function assuming `kernel` is always one of {`linear`, `poly`, `rbf`, `sigmoid`}.\n",
    "3. Implement the `evaluate_classifier()` function which scores a classifier based on accuracy of a given dataset.\n",
    "4. Implement `best_model_selection()` to perform cross-validation by calling `learn_classifier()` and `evaluate_classifier()` for different folds and determine which of the four kernels performs the best.\n",
    "5. Go back to `learn_classifier()` and fill in the best kernel.\n",
    "<br><br><br>\n",
    "\n",
    "<img src=\"https://upload.wikimedia.org/wikipedia/commons/d/d5/Hey_Machine_Learning_Logo.png\" width=\"65px\" align=\"left\" float=\"left\"/>\n",
    "<br><br><br>\n",
    "\n",
    "## Part 5:\n",
    "\n",
    "To determine whether our classifier is performing well, we need to compare it to a baseline classifier. A baseline is generally a simple or trivial classifier and our classifier should beat the baseline in terms of a performance measure such as accuracy. Therefore, we will implement a classifier called `MajorityLabelClassifier` that always predicts the class equal to **mode** of the labels (i.e., the most frequent label) in training data."
   ]
  },
  {
   "cell_type": "code",
   "execution_count": 12,
   "metadata": {
    "id": "xUBpZ6_NYPuB"
   },
   "outputs": [
    {
     "name": "stdout",
     "output_type": "stream",
     "text": [
      "Training Accuracy:  0.5001734304543878\n"
     ]
    }
   ],
   "source": [
    "# Skeleton of MajorityLabelClassifier is consistent with other sklearn classifiers\n",
    "class MajorityLabelClassifier():\n",
    "    \"\"\"\n",
    "    A classifier that predicts the mode of training labels\n",
    "    \"\"\"\n",
    "    def __init__(self):\n",
    "        \"\"\"\n",
    "        Initialize your parameter here\n",
    "        \"\"\"\n",
    "        self.mode_label = None  # To store the mode of labels\n",
    "\n",
    "    def fit(self, X, y):\n",
    "        \"\"\"\n",
    "        Implement fit by taking training data X and their labels y and finding the mode of y\n",
    "        i.e. store your learned parameter\n",
    "        \"\"\"\n",
    "        # Count occurrences of each label in y\n",
    "        label_counts = {}\n",
    "        for label in y:\n",
    "            if label in label_counts:\n",
    "                label_counts[label] += 1\n",
    "            else:\n",
    "                label_counts[label] = 1\n",
    "        \n",
    "        # Find the label with the maximum count (the mode)\n",
    "        self.mode_label = max(label_counts, key=label_counts.get)\n",
    "\n",
    "    def predict(self, X):\n",
    "        \"\"\"\n",
    "        Implement to give the mode of training labels as a prediction for each data instance in X\n",
    "        return labels\n",
    "        \"\"\"\n",
    "        # Create an array with the same length as X, filled with the mode label\n",
    "        return np.full(X.shape[0], self.mode_label)\n",
    "\n",
    "# Report the accuracy of your classifier by comparing the predicted label of each example to its true label\n",
    "baselineClf = MajorityLabelClassifier()\n",
    "# Use fit and predict methods to get predictions and compare it with the true labels y\n",
    "baselineClf.fit(X, y) # Fit the classifier on training data\n",
    "y_pred = baselineClf.predict(X) # Predict on training data\n",
    "accuracy = np.mean(y_pred == y) # Calculate accuracy by comparing predictions with true labels\n",
    "# print(training accuracy) should give 0.5001734304543878\n",
    "print(\"Training Accuracy: \", accuracy)"
   ]
  },
  {
   "cell_type": "markdown",
   "metadata": {
    "id": "MZldwD1JYPuD"
   },
   "source": [
    "<img src=\"https://upload.wikimedia.org/wikipedia/commons/d/d5/Hey_Machine_Learning_Logo.png\" width=\"65px\" align=\"left\" float=\"left\"/>\n",
    "<br><br><br>\n",
    "\n",
    "## Part 6:\n",
    "\n",
    "Implement the `learn_classifier()` function assuming `kernel` is always one of {`linear`, `poly`, `rbf`, `sigmoid`}. Stick to default values for any other optional parameters."
   ]
  },
  {
   "cell_type": "code",
   "execution_count": 13,
   "metadata": {
    "id": "WGpfOK2EYPuD"
   },
   "outputs": [],
   "source": [
    "def learn_classifier(X_train, y_train, kernel):\n",
    "    \"\"\" learns a classifier from the input features and labels using the kernel function supplied\n",
    "    Inputs:\n",
    "        X_train: scipy.sparse.csr.csr_matrix: sparse matrix of features, output of create_features()\n",
    "        y_train: numpy.ndarray(int): dense binary vector of class labels, output of create_labels()\n",
    "        kernel: str: kernel function to be used with classifier. [linear|poly|rbf|sigmoid]\n",
    "    Outputs:\n",
    "        sklearn.svm.SVC: classifier learnt from data\n",
    "    \"\"\"\n",
    "\n",
    "    # Initialize SVC with specified kernel\n",
    "    classifier = SVC(kernel=kernel)\n",
    "    \n",
    "    # Fit the classifier on the training data\n",
    "    classifier.fit(X_train, y_train)\n",
    "    \n",
    "    return classifier"
   ]
  },
  {
   "cell_type": "code",
   "execution_count": 14,
   "metadata": {
    "id": "iOwIKVuvYPuF"
   },
   "outputs": [],
   "source": [
    "# execute code\n",
    "classifier = learn_classifier(X, y, 'linear')"
   ]
  },
  {
   "cell_type": "markdown",
   "metadata": {
    "id": "PDsVwZuNYPuK"
   },
   "source": [
    "<img src=\"https://upload.wikimedia.org/wikipedia/commons/d/d5/Hey_Machine_Learning_Logo.png\" width=\"65px\" align=\"left\" float=\"left\"/>\n",
    "<br><br><br>\n",
    "\n",
    "## Part 7:\n",
    "\n",
    "Now that we know how to learn a classifier, the next step is to evaluate it, ie., characterize how good its classification performance is. This step is necessary to select the best model among a given set of models, or even tune hyperparameters for a given model.\n",
    "\n",
    "There are two questions that come to mind:\n",
    "1. **What data to use?**\n",
    "    - **Validation Data**: The data used to evaluate a classifier is called **validation data** (or hold-out data), and it is usually different from the data used for training. The model or hyperparameter with the best performance in the held out data is chosen. This approach is relatively fast and simple but vulnerable to biases found in validation set.\n",
    "    - **Cross-validation**: This approach divides the dataset in $k$ groups (so, called k-fold cross-validation). One of group is used as test set for evaluation and other groups as training set. The model or hyperparameter with the best average performance across all k folds is chosen. For this question you will perform 4-fold cross validation to determine the best kernel. We will keep all other hyperparameters default for now. This approach provides robustness toward biasness in validation set. However, it takes more time.\n",
    "    \n",
    "2. **And what metric?** There are several evaluation measures available in the literature (e.g., accuracy, precision, recall, F-1,etc) and different fields have different preferences for specific metrics due to different goals. We will go with accuracy. According to wiki, **accuracy** of a classifier measures the fraction of all data points that are correctly classified by it; it is the ratio of the number of correct classifications to the total number of (correct and incorrect) classifications. `sklearn.metrics` provides a number of performance metrics.\n",
    "\n",
    "Now, we will implement the following function."
   ]
  },
  {
   "cell_type": "code",
   "execution_count": 15,
   "metadata": {
    "id": "tvLsjxqKYPuL"
   },
   "outputs": [],
   "source": [
    "def evaluate_classifier(classifier, X_validation, y_validation):\n",
    "    \"\"\" evaluates a classifier based on a supplied validation data\n",
    "    Inputs:\n",
    "        classifier: sklearn.svm.classes.SVC: classifer to evaluate\n",
    "        X_validation: scipy.sparse.csr.csr_matrix: sparse matrix of features\n",
    "        y_validation: numpy.ndarray(int): dense binary vector of class labels\n",
    "    Outputs:\n",
    "        double: accuracy of classifier on the validation data\n",
    "    \"\"\"\n",
    "    # Use the classifier to predict labels on the validation set\n",
    "    y_pred = classifier.predict(X_validation)\n",
    "    \n",
    "    # Calculate and return accuracy\n",
    "    accuracy = accuracy_score(y_validation, y_pred)\n",
    "    return accuracy"
   ]
  },
  {
   "cell_type": "code",
   "execution_count": 16,
   "metadata": {
    "id": "pmdMkFIzYPuN"
   },
   "outputs": [
    {
     "name": "stdout",
     "output_type": "stream",
     "text": [
      "0.9543877904960111\n"
     ]
    }
   ],
   "source": [
    "# test your code by evaluating the accuracy on the training data\n",
    "accuracy = evaluate_classifier(classifier, X, y)\n",
    "print(accuracy)\n",
    "# should give around 0.9545034107989363"
   ]
  },
  {
   "cell_type": "markdown",
   "metadata": {
    "id": "bYYIADjZYPuP"
   },
   "source": [
    "<img src=\"https://upload.wikimedia.org/wikipedia/commons/d/d5/Hey_Machine_Learning_Logo.png\" width=\"65px\" align=\"left\" float=\"left\"/>\n",
    "<br><br><br>\n",
    "\n",
    "## Part 8:\n",
    "\n",
    "Now it is time to decide which kernel works best by using the cross-validation technique. We will split the training data into 4-folds (75% training and 25% validation) by shuffling randomly. For each kernel, record the average accuracy for all folds and determine the best classifier. Since our dataset is balanced (both classes are in almost equal propertion), `sklearn.model_selection.KFold` [doc](https://scikit-learn.org/stable/modules/generated/sklearn.model_selection.KFold.html) can be used for cross-validation."
   ]
  },
  {
   "cell_type": "code",
   "execution_count": 17,
   "metadata": {
    "id": "nq5AlMoUYPuQ"
   },
   "outputs": [
    {
     "data": {
      "text/plain": [
       "KFold(n_splits=4, random_state=1, shuffle=True)"
      ]
     },
     "execution_count": 17,
     "metadata": {},
     "output_type": "execute_result"
    }
   ],
   "source": [
    "kf = sklearn.model_selection.KFold(n_splits=4, random_state=1, shuffle=True)\n",
    "kf"
   ]
  },
  {
   "cell_type": "markdown",
   "metadata": {
    "id": "Og6hzUPPYPuT"
   },
   "source": [
    "Then use the following code to determine which classifier is the best."
   ]
  },
  {
   "cell_type": "code",
   "execution_count": 18,
   "metadata": {
    "id": "oJAjQyNKYPuT"
   },
   "outputs": [
    {
     "name": "stdout",
     "output_type": "stream",
     "text": [
      "Kernel: linear, Train Time: 5.4251s, Eval Time: 1.2519s\n",
      "Kernel: linear, Train Time: 5.3891s, Eval Time: 1.2485s\n",
      "Kernel: linear, Train Time: 5.3234s, Eval Time: 1.2482s\n",
      "Kernel: linear, Train Time: 5.3654s, Eval Time: 1.2332s\n",
      "Kernel: rbf, Train Time: 18.6579s, Eval Time: 2.4710s\n",
      "Kernel: rbf, Train Time: 18.4523s, Eval Time: 2.4286s\n",
      "Kernel: rbf, Train Time: 18.3242s, Eval Time: 2.4637s\n",
      "Kernel: rbf, Train Time: 18.4943s, Eval Time: 2.4218s\n",
      "Kernel: poly, Train Time: 28.7439s, Eval Time: 2.8806s\n",
      "Kernel: poly, Train Time: 29.1562s, Eval Time: 2.9194s\n",
      "Kernel: poly, Train Time: 28.7404s, Eval Time: 2.9380s\n",
      "Kernel: poly, Train Time: 29.3061s, Eval Time: 2.8958s\n",
      "Kernel: sigmoid, Train Time: 5.6008s, Eval Time: 1.2325s\n",
      "Kernel: sigmoid, Train Time: 5.5321s, Eval Time: 1.2196s\n",
      "Kernel: sigmoid, Train Time: 5.7141s, Eval Time: 1.2219s\n",
      "Kernel: sigmoid, Train Time: 5.5497s, Eval Time: 1.2323s\n",
      "Best kernel: poly\n"
     ]
    }
   ],
   "source": [
    "def best_model_selection(kf, X, y):\n",
    "    \"\"\"\n",
    "    Select the kernel giving best results using k-fold cross-validation.\n",
    "    Other parameters should be left default.\n",
    "    Input:\n",
    "    kf (sklearn.model_selection.KFold): kf object defined above\n",
    "    X (scipy.sparse.csr.csr_matrix): training data\n",
    "    y (array(int)): training labels\n",
    "    Return:\n",
    "    best_kernel (string)\n",
    "    \"\"\"\n",
    "    # Dictionary to store average accuracies for each kernel\n",
    "    kernel_accuracies = {}\n",
    "    \n",
    "    for kernel in ['linear', 'rbf', 'poly', 'sigmoid']:\n",
    "        accuracies = []\n",
    "        # Perform cross-validation\n",
    "        for train_index, val_index in kf.split(X):\n",
    "            X_train, X_val = X[train_index], X[val_index]\n",
    "            y_train, y_val = y[train_index], y[val_index]\n",
    "            \n",
    "            # Timing the classifier training\n",
    "            start_time = time.time()\n",
    "            classifier = learn_classifier(X_train, y_train, kernel)\n",
    "            train_time = time.time() - start_time\n",
    "            \n",
    "            # Timing the evaluation\n",
    "            start_time = time.time()\n",
    "            accuracy = evaluate_classifier(classifier, X_val, y_val)\n",
    "            eval_time = time.time() - start_time\n",
    "            \n",
    "            accuracies.append(accuracy)\n",
    "            \n",
    "            # Print timings for this fold\n",
    "            print(f\"Kernel: {kernel}, Train Time: {train_time:.4f}s, Eval Time: {eval_time:.4f}s\")\n",
    "        \n",
    "        # Calculate and store the average accuracy for the kernel\n",
    "        avg_accuracy = sum(accuracies) / len(accuracies)\n",
    "        kernel_accuracies[kernel] = avg_accuracy\n",
    "\n",
    "    # Determine the kernel with the highest average accuracy\n",
    "    best_kernel = max(kernel_accuracies, key=kernel_accuracies.get)\n",
    "\n",
    "    return best_kernel\n",
    "\n",
    "# small_X = X[:1000]  # Take the first 1000 samples\n",
    "# small_y = y[:1000]\n",
    "# best_kernel = best_model_selection(kf, small_X, small_y)\n",
    "# print(\"Best kernel for small dataset:\", best_kernel)\n",
    "# print(X.shape[0])\n",
    "\n",
    "# Test your code\n",
    "best_kernel = best_model_selection(kf, X, y)\n",
    "print(\"Best kernel:\", best_kernel)\n"
   ]
  },
  {
   "cell_type": "markdown",
   "metadata": {},
   "source": [
    "### Results\n",
    "_4 mins 25.1 sec runtime_\n",
    "\n",
    "Kernel: linear, Train Time: 5.4251s, Eval Time: 1.2519s\\\n",
    "Kernel: linear, Train Time: 5.3891s, Eval Time: 1.2485s\\\n",
    "Kernel: linear, Train Time: 5.3234s, Eval Time: 1.2482s\\\n",
    "Kernel: linear, Train Time: 5.3654s, Eval Time: 1.2332s\\\n",
    "\\\n",
    "Kernel: rbf, Train Time: 18.6579s, Eval Time: 2.4710s\\\n",
    "Kernel: rbf, Train Time: 18.4523s, Eval Time: 2.4286s\\\n",
    "Kernel: rbf, Train Time: 18.3242s, Eval Time: 2.4637s\\\n",
    "Kernel: rbf, Train Time: 18.4943s, Eval Time: 2.4218s\\\n",
    "\\\n",
    "Kernel: poly, Train Time: 28.7439s, Eval Time: 2.8806s\\\n",
    "Kernel: poly, Train Time: 29.1562s, Eval Time: 2.9194s\\\n",
    "Kernel: poly, Train Time: 28.7404s, Eval Time: 2.9380s\\\n",
    "Kernel: poly, Train Time: 29.3061s, Eval Time: 2.8958s\\\n",
    "\\\n",
    "Kernel: sigmoid, Train Time: 5.6008s, Eval Time: 1.2325s\\\n",
    "Kernel: sigmoid, Train Time: 5.5321s, Eval Time: 1.2196s\\\n",
    "Kernel: sigmoid, Train Time: 5.7141s, Eval Time: 1.2219s\\\n",
    "Kernel: sigmoid, Train Time: 5.5497s, Eval Time: 1.2323s\\\n",
    "\n",
    "**Best kernel: poly**"
   ]
  },
  {
   "cell_type": "markdown",
   "metadata": {
    "id": "Yho_UYX7YPuX"
   },
   "source": [
    "<img src=\"https://upload.wikimedia.org/wikipedia/commons/d/d5/Hey_Machine_Learning_Logo.png\" width=\"65px\" align=\"left\" float=\"left\"/>\n",
    "<br><br><br>\n",
    "\n",
    "## Part 9\n",
    "\n",
    "We're almost done! Now it's time to write a nice little wrapper function that will use our model to classify unlabeled tweets from tweets_test.csv file."
   ]
  },
  {
   "cell_type": "code",
   "execution_count": 19,
   "metadata": {
    "id": "qth7DPekYPuY"
   },
   "outputs": [],
   "source": [
    "def classify_tweets(tfidf, classifier, unlabeled_tweets):\n",
    "    \"\"\" predicts class labels for raw tweet text\n",
    "    Inputs:\n",
    "        tfidf: sklearn.feature_extraction.text.TfidfVectorizer: the TfidfVectorizer object used on training data\n",
    "        classifier: sklearn.svm.SVC: classifier learned\n",
    "        unlabeled_tweets: pd.DataFrame: tweets read from tweets_test.csv\n",
    "    Outputs:\n",
    "        numpy.ndarray(int): dense binary vector of class labels for unlabeled tweets\n",
    "    \"\"\"\n",
    "    # Process the unlabeled tweets\n",
    "    unlabeled_tweets_processed = process_all(unlabeled_tweets)\n",
    "\n",
    "    # Use the tfidf vectorizer to transform the raw text of the unlabeled tweets\n",
    "    X_unlabeled = tfidf.transform(unlabeled_tweets_processed['text'])\n",
    "    \n",
    "    # Use the trained classifier to predict class labels for the unlabeled tweets\n",
    "    y_pred = classifier.predict(X_unlabeled)\n",
    "    \n",
    "    return y_pred"
   ]
  },
  {
   "cell_type": "code",
   "execution_count": 20,
   "metadata": {
    "id": "KKNMwVVgYPua"
   },
   "outputs": [],
   "source": [
    "# Fill in best classifier in your function and re-trian your classifier using all training data\n",
    "# Get predictions for unlabelled test data\n",
    "\n",
    "classifier = learn_classifier(X, y, best_kernel)\n",
    "unlabeled_tweets = pd.read_csv(\"tweets_test.csv\", na_filter=False)\n",
    "y_pred = classify_tweets(tfidf, classifier, unlabeled_tweets)"
   ]
  },
  {
   "cell_type": "code",
   "execution_count": 21,
   "metadata": {},
   "outputs": [
    {
     "name": "stdout",
     "output_type": "stream",
     "text": [
      "Training Accuracy:  0.9968782518210197\n"
     ]
    }
   ],
   "source": [
    "# Retrain the classifier on the entire training dataset\n",
    "classifier = learn_classifier(X, y, best_kernel)\n",
    "\n",
    "# Calculate training accuracy to assess the model's performance on the training data\n",
    "y_train_pred = classifier.predict(X)\n",
    "training_accuracy = np.mean(y_train_pred == y)  # Compare predictions on training data with true labels\n",
    "print(\"Training Accuracy: \", training_accuracy)"
   ]
  },
  {
   "cell_type": "markdown",
   "metadata": {
    "id": "oeuZhVR2OhyV"
   },
   "source": [
    "## Final SVM Accuracy \n",
    "\n",
    "Our SVM classifier performed better than the baseline classifier; the baseline classifier achieved a training accuracy of approximately **50.02%**, while our SVM classifier achieved a training accuracy of **99.69%**. This indicates an improvement in predictive performance on the training data, showing that the SVM classifier is better at distinguishing between classes in the dataset compared to the baseline model."
   ]
  },
  {
   "cell_type": "markdown",
   "metadata": {},
   "source": [
    "_Image Credit: Oksana Latysheva, CC BY-SA 4.0 <https://creativecommons.org/licenses/by-sa/4.0>, via Wikimedia Commons_"
   ]
  }
 ],
 "metadata": {
  "colab": {
   "provenance": []
  },
  "kernelspec": {
   "display_name": "Python 3",
   "language": "python",
   "name": "python3"
  },
  "language_info": {
   "codemirror_mode": {
    "name": "ipython",
    "version": 3
   },
   "file_extension": ".py",
   "mimetype": "text/x-python",
   "name": "python",
   "nbconvert_exporter": "python",
   "pygments_lexer": "ipython3",
   "version": "3.12.6"
  }
 },
 "nbformat": 4,
 "nbformat_minor": 0
}
